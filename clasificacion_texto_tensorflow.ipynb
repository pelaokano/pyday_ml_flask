{
  "nbformat": 4,
  "nbformat_minor": 0,
  "metadata": {
    "colab": {
      "provenance": [],
      "gpuType": "T4"
    },
    "kernelspec": {
      "name": "python3",
      "display_name": "Python 3"
    },
    "language_info": {
      "name": "python"
    },
    "accelerator": "GPU"
  },
  "cells": [
    {
      "cell_type": "code",
      "source": [
        "from google.colab import drive\n",
        "drive.mount('/content/drive')"
      ],
      "metadata": {
        "id": "8dBasOqlD6gX"
      },
      "execution_count": null,
      "outputs": []
    },
    {
      "cell_type": "code",
      "source": [
        "import pandas as pd\n",
        "import tensorflow as tf"
      ],
      "metadata": {
        "id": "R2TzOoECdrh-"
      },
      "execution_count": null,
      "outputs": []
    },
    {
      "cell_type": "code",
      "source": [
        "data_train = pd.read_csv('/content/drive/MyDrive/1_INEL/Inel_ML/amazon_data.csv')\n",
        "data_test = pd.read_csv('/content/drive/MyDrive/1_INEL/Inel_ML/amazon_data2.csv')"
      ],
      "metadata": {
        "id": "PbVVmbIpdrYn"
      },
      "execution_count": null,
      "outputs": []
    },
    {
      "cell_type": "code",
      "source": [
        "data_train['label']=data_train['stars'].map(lambda x: 1 if x > 3 else 0)\n",
        "data_test['label']=data_test['stars'].map(lambda x: 1 if x > 3 else 0)"
      ],
      "metadata": {
        "id": "bejlLz8Rd5mM"
      },
      "execution_count": null,
      "outputs": []
    },
    {
      "cell_type": "code",
      "source": [
        "x_train = data_train['review_body'].to_list()\n",
        "y_train = data_train['label'].to_list()\n",
        "\n",
        "x_test = data_test['review_body'].to_list()\n",
        "y_test = data_test['label'].to_list()"
      ],
      "metadata": {
        "id": "8iAR0v1jee9O"
      },
      "execution_count": null,
      "outputs": []
    },
    {
      "cell_type": "code",
      "source": [
        "import re\n",
        "def cleanText(text):\n",
        "    whitespace = re.compile(r\"\\s+\")\n",
        "    web_address = re.compile(r\"(?i)http(s):\\/\\/[a-z0-9.~_\\-\\/]+\")\n",
        "    user = re.compile(r\"(?i)@[a-z0-9_]+\")\n",
        "    text = whitespace.sub(' ', text)\n",
        "    text = web_address.sub('', text)\n",
        "    text = user.sub('', text)\n",
        "    text = re.sub(r\"\\[[^()]*\\]\", \"\", text)\n",
        "    text = re.sub(\"\\d+\", \"\", text)\n",
        "    text = re.sub(r'[^\\w\\s]','',text)\n",
        "    text = re.sub(r\"(?:@\\S*|#\\S*|http(?=.*://)\\S*)\", \"\", text)\n",
        "    return text.lower()"
      ],
      "metadata": {
        "id": "u3sRRQHbe8EP"
      },
      "execution_count": null,
      "outputs": []
    },
    {
      "cell_type": "code",
      "source": [
        "x_train = [cleanText(txt) for txt in x_train]\n",
        "x_test = [cleanText(txt) for txt in x_test]"
      ],
      "metadata": {
        "id": "SsgW3VuCfWoP"
      },
      "execution_count": null,
      "outputs": []
    },
    {
      "cell_type": "code",
      "source": [
        "max_sequence_len = max([len(x) for x in x_train])"
      ],
      "metadata": {
        "id": "ahjYJce7gOSN"
      },
      "execution_count": null,
      "outputs": []
    },
    {
      "cell_type": "code",
      "source": [
        "max_sequence_len"
      ],
      "metadata": {
        "colab": {
          "base_uri": "https://localhost:8080/"
        },
        "id": "i7YxjwH1gSQ9",
        "outputId": "03b73247-ed6e-4459-8da2-0132cb7d0c1e"
      },
      "execution_count": null,
      "outputs": [
        {
          "output_type": "execute_result",
          "data": {
            "text/plain": [
              "2981"
            ]
          },
          "metadata": {},
          "execution_count": 8
        }
      ]
    },
    {
      "cell_type": "code",
      "source": [
        "encoder = tf.keras.layers.TextVectorization(\n",
        " max_tokens=5000,\n",
        " output_mode='int',\n",
        " output_sequence_length=max_sequence_len)"
      ],
      "metadata": {
        "id": "KOsMP7eGgS0R"
      },
      "execution_count": null,
      "outputs": []
    },
    {
      "cell_type": "code",
      "source": [
        "encoder.adapt(x_train)"
      ],
      "metadata": {
        "id": "ip5T1gezgv6J"
      },
      "execution_count": null,
      "outputs": []
    },
    {
      "cell_type": "code",
      "source": [
        "model = tf.keras.Sequential([\n",
        "    encoder,\n",
        "    tf.keras.layers.Embedding(\n",
        "        input_dim=len(encoder.get_vocabulary()),\n",
        "        output_dim=64,\n",
        "        # Use masking to handle the variable sequence lengths\n",
        "        mask_zero=True),\n",
        "    tf.keras.layers.Bidirectional(tf.keras.layers.LSTM(64)),\n",
        "    tf.keras.layers.Dense(64, activation='relu'),\n",
        "    tf.keras.layers.Dense(1)\n",
        "])"
      ],
      "metadata": {
        "id": "l8cfuc5_h9dp"
      },
      "execution_count": null,
      "outputs": []
    },
    {
      "cell_type": "code",
      "source": [
        "model.compile(loss=tf.keras.losses.BinaryCrossentropy(from_logits=True),\n",
        "              optimizer=tf.keras.optimizers.Adam(1e-4),\n",
        "              metrics=['accuracy'])"
      ],
      "metadata": {
        "id": "WxBrGNDZiK-Z"
      },
      "execution_count": null,
      "outputs": []
    },
    {
      "cell_type": "code",
      "source": [
        "history = model.fit(x_train,y_train, epochs=10)"
      ],
      "metadata": {
        "colab": {
          "base_uri": "https://localhost:8080/"
        },
        "id": "YE3m0rqriZVf",
        "outputId": "5d0fcc8a-7914-436a-e7fb-90b912097ede"
      },
      "execution_count": null,
      "outputs": [
        {
          "output_type": "stream",
          "name": "stdout",
          "text": [
            "Epoch 1/10\n",
            "6250/6250 [==============================] - 290s 44ms/step - loss: 0.3931 - accuracy: 0.8172\n",
            "Epoch 2/10\n",
            "6250/6250 [==============================] - 224s 36ms/step - loss: 0.3467 - accuracy: 0.8474\n",
            "Epoch 3/10\n",
            "6250/6250 [==============================] - 223s 36ms/step - loss: 0.3296 - accuracy: 0.8546\n",
            "Epoch 4/10\n",
            "6250/6250 [==============================] - 220s 35ms/step - loss: 0.3135 - accuracy: 0.8616\n",
            "Epoch 5/10\n",
            "6250/6250 [==============================] - 217s 35ms/step - loss: 0.3001 - accuracy: 0.8677\n",
            "Epoch 6/10\n",
            "6250/6250 [==============================] - 220s 35ms/step - loss: 0.2886 - accuracy: 0.8734\n",
            "Epoch 7/10\n",
            "6250/6250 [==============================] - 227s 36ms/step - loss: 0.2781 - accuracy: 0.8789\n",
            "Epoch 8/10\n",
            "6250/6250 [==============================] - 229s 37ms/step - loss: 0.2680 - accuracy: 0.8835\n",
            "Epoch 9/10\n",
            "6250/6250 [==============================] - 230s 37ms/step - loss: 0.2589 - accuracy: 0.8875\n",
            "Epoch 10/10\n",
            "6250/6250 [==============================] - 219s 35ms/step - loss: 0.2504 - accuracy: 0.8922\n"
          ]
        }
      ]
    },
    {
      "cell_type": "code",
      "source": [
        "model.save('/content/drive/MyDrive/1_INEL/Inel_ML/miModelo_texto_clasificacion',save_format='tf')"
      ],
      "metadata": {
        "colab": {
          "base_uri": "https://localhost:8080/"
        },
        "id": "yhmrd0dHz-Mu",
        "outputId": "0e65ad55-9845-4e39-e184-8856424af28d"
      },
      "execution_count": null,
      "outputs": [
        {
          "output_type": "stream",
          "name": "stderr",
          "text": [
            "WARNING:absl:Found untraced functions such as lstm_cell_1_layer_call_fn, lstm_cell_1_layer_call_and_return_conditional_losses, lstm_cell_2_layer_call_fn, lstm_cell_2_layer_call_and_return_conditional_losses while saving (showing 4 of 4). These functions will not be directly callable after loading.\n"
          ]
        }
      ]
    },
    {
      "cell_type": "code",
      "source": [
        "x_train[-1]"
      ],
      "metadata": {
        "colab": {
          "base_uri": "https://localhost:8080/",
          "height": 36
        },
        "id": "9XXWVYs_xvII",
        "outputId": "cce271ba-26ac-4046-8bb0-cf1cef0757a6"
      },
      "execution_count": null,
      "outputs": [
        {
          "output_type": "execute_result",
          "data": {
            "text/plain": [
              "'súper bien las brochas son buenas no sé menos han caído pelitos quizás pesan un poco pero con los chulas que son da igual xd'"
            ],
            "application/vnd.google.colaboratory.intrinsic+json": {
              "type": "string"
            }
          },
          "metadata": {},
          "execution_count": 20
        }
      ]
    },
    {
      "cell_type": "code",
      "source": [
        "loaded_model = tf.keras.models.load_model('/content/drive/MyDrive/1_INEL/Inel_ML/miModelo_texto_clasificacion')"
      ],
      "metadata": {
        "id": "wW7FuYoFDZ87"
      },
      "execution_count": null,
      "outputs": []
    },
    {
      "cell_type": "code",
      "source": [
        " loaded_model.predict(['no me gusta el libro de guillermo'])"
      ],
      "metadata": {
        "colab": {
          "base_uri": "https://localhost:8080/"
        },
        "id": "CHlNnX-wxsRO",
        "outputId": "dac95d50-cd28-44fc-a7a1-dc682bc18222"
      },
      "execution_count": null,
      "outputs": [
        {
          "output_type": "stream",
          "name": "stdout",
          "text": [
            "1/1 [==============================] - 0s 376ms/step\n"
          ]
        },
        {
          "output_type": "execute_result",
          "data": {
            "text/plain": [
              "array([[-2.4286082]], dtype=float32)"
            ]
          },
          "metadata": {},
          "execution_count": 11
        }
      ]
    },
    {
      "cell_type": "code",
      "source": [],
      "metadata": {
        "id": "JpBOpDiryKUk"
      },
      "execution_count": null,
      "outputs": []
    }
  ]
}